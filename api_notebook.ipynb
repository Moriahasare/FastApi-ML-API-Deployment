{
 "cells": [
  {
   "cell_type": "markdown",
   "metadata": {},
   "source": [
    "#  Sepsis Prediction using Machine Learning\n",
    "\n",
    "## `Business Understanding`\n",
    "Sepsis is a life-threatening condition that arises when the body's response to infection causes injury to its own tissues and organs. It is a major healthcare problem, causing millions of deaths worldwide each year. Early detection and prompt treatment of sepsis are critical to improving patient outcomes and reducing mortality rates. \n",
    "\n",
    "\n",
    "`Problem statement:`\n",
    "Healthcare providers need an effective tool to predict and diagnose sepsis early to provide timely intervention and improve patient outcomes. Current diagnostic methods often rely on clinical judgment and basic laboratory tests, which can be slow and sometimes inaccurate. There is a need for an advanced predictive model that can analyze large volumes of patient data and identify patterns indicative of sepsis in its early stages.\n",
    "\n",
    "`Objectives:`\n",
    "- Early Detection: Develop a machine learning model that can predict the onset of sepsis early using patient data such as vital signs, laboratory results, and demographic information.\n",
    "- Accuracy: Ensure that the model has high sensitivity and specificity to minimize false positives and false negatives.\n",
    "Integration: Integrate the model into hospitals' electronic health record (EHR) system for real-time monitoring and alerts.\n",
    "- Outcome Improvement: Reduce the mortality rate and healthcare costs associated with sepsis by enabling timely and targeted interventions.\n",
    "\n",
    "\n",
    "\n",
    "## `Hypothesis`\n",
    "`Null Hypothesis (H₀):` The mean Body Mass Index (M11) for patients with positive Sepsis is equal to that for patients with negative Sepsis.\n",
    "\n",
    "`Alternative Hypothesis (H₁):` The mean Body Mass Index (M11) for patients with positive Sepsis is different from that for patients with negative Sepsis.\n",
    "\n",
    "\n",
    "## `Research Questions`\n",
    "- What is the distribution of ages among the patients?\n",
    "- What is the correlation between Plasma glucose concentration (PL) and Sepsis?\n",
    "- What is the relationship between age and the number of times pregnant (PRG)?\n",
    "- How does the average skin thickness (SK) differ between patients with and without insurance?\n",
    "\n",
    "\n",
    "`key Attributes in dataset`\n",
    "- ID: number to represent patient ID\n",
    "- PRG: Plasma glucose\n",
    "- PL: Blood Work Result-1 (mu U/ml)\n",
    "- PR: Blood Pressure (mm Hg)\n",
    "- SK: Blood Work Result-2 (mm)\n",
    "- TS: Blood Work Result-3 (mu U/ml)\n",
    "- M11: Body mass index (weight in kg/(height in m))^2\n",
    "- BD2: Blood Work Result-4 (mu U/ml)\n",
    "- Age: patients age (years)\n",
    "- Insurance: If a patient holds a valid insurance card\n",
    "- Sepsis: Positive: if a patient in ICU will develop a sepsis , and Negative: otherwise\n",
    "\n",
    "`Methodology:`\n",
    "- Data Collection: Gather historical patient data from kaggle.\n",
    "- Data Preprocessing: Clean and preprocess data to handle missing values, normalize values, and create features.\n",
    "- Model Development: Use machine learning algorithms such as logistic regression, random forests, or deep learning to build predictive models.\n",
    "- Model Evaluation: Validate the model using metrics like accuracy, precision, recall, and the area under the receiver operating characteristic curve (AUC-ROC).\n",
    "- Deployment: Integrate the model into the hospital's EHR system and set up real-time monitoring and alerting.\n",
    "- Continuous Improvement: Monitor the model's performance in a real-world setting and update it as needed to maintain accuracy and effectiveness.\n",
    "\n",
    "`Expected Benefits:`\n",
    "- Improved Patient Outcomes: Early detection and treatment can significantly reduce the mortality rate associated with sepsis.\n",
    "- Cost Savings: Reduced length of hospital stays and less intensive care required for early-detected cases.\n",
    "- Operational Efficiency: Automated alerts and monitoring can help healthcare providers manage their workload more effectively.\n",
    "- Data-Driven Insights: The model can provide insights into risk factors and trends related to sepsis, informing future healthcare practices and policies."
   ]
  },
  {
   "cell_type": "code",
   "execution_count": 25,
   "metadata": {},
   "outputs": [
    {
     "name": "stdout",
     "output_type": "stream",
     "text": [
      "Activated\n"
     ]
    }
   ],
   "source": [
    "import pandas as pd\n",
    "import numpy as np\n",
    "import re\n",
    "import warnings\n",
    "import seaborn as sns\n",
    "import matplotlib.pyplot as plt\n",
    "import scipy.stats as stats\n",
    "from scipy.stats import f_oneway\n",
    "import plotly.express as px\n",
    "\n",
    "\n",
    "# Machine Learning Packages\n",
    "from sklearn.model_selection import train_test_split\n",
    "from sklearn.preprocessing import LabelEncoder, RobustScaler, FunctionTransformer\n",
    "from sklearn.pipeline import Pipeline\n",
    "from sklearn.compose import ColumnTransformer\n",
    "from sklearn.impute import SimpleImputer\n",
    "from sklearn.base import BaseEstimator, TransformerMixin\n",
    "from sklearn.tree import DecisionTreeClassifier\n",
    "from sklearn.linear_model import LogisticRegression\n",
    "from sklearn.neighbors import KNeighborsClassifier\n",
    "from sklearn.ensemble import RandomForestClassifier\n",
    "from sklearn.metrics import accuracy_score, f1_score, roc_auc_score, precision_score, recall_score\n",
    "from sklearn.metrics import classification_report, confusion_matrix\n",
    "from sklearn.model_selection import GridSearchCV\n",
    "from imblearn.over_sampling import SMOTE\n",
    "from imblearn.pipeline import Pipeline as ImbPipeline\n",
    "\n",
    "\n",
    "warnings.filterwarnings('ignore')\n",
    "print(\"Activated\")"
   ]
  },
  {
   "cell_type": "markdown",
   "metadata": {},
   "source": [
    "## Data Loading and Processing"
   ]
  },
  {
   "cell_type": "code",
   "execution_count": 26,
   "metadata": {},
   "outputs": [],
   "source": [
    "# Load dataset\n",
    "data = pd.read_csv('./data/Paitients_Files_Train.csv')"
   ]
  },
  {
   "cell_type": "code",
   "execution_count": 27,
   "metadata": {},
   "outputs": [
    {
     "data": {
      "text/html": [
       "<div>\n",
       "<style scoped>\n",
       "    .dataframe tbody tr th:only-of-type {\n",
       "        vertical-align: middle;\n",
       "    }\n",
       "\n",
       "    .dataframe tbody tr th {\n",
       "        vertical-align: top;\n",
       "    }\n",
       "\n",
       "    .dataframe thead th {\n",
       "        text-align: right;\n",
       "    }\n",
       "</style>\n",
       "<table border=\"1\" class=\"dataframe\">\n",
       "  <thead>\n",
       "    <tr style=\"text-align: right;\">\n",
       "      <th></th>\n",
       "      <th>ID</th>\n",
       "      <th>PRG</th>\n",
       "      <th>PL</th>\n",
       "      <th>PR</th>\n",
       "      <th>SK</th>\n",
       "      <th>TS</th>\n",
       "      <th>M11</th>\n",
       "      <th>BD2</th>\n",
       "      <th>Age</th>\n",
       "      <th>Insurance</th>\n",
       "      <th>Sepssis</th>\n",
       "    </tr>\n",
       "  </thead>\n",
       "  <tbody>\n",
       "    <tr>\n",
       "      <th>0</th>\n",
       "      <td>ICU200010</td>\n",
       "      <td>6</td>\n",
       "      <td>148</td>\n",
       "      <td>72</td>\n",
       "      <td>35</td>\n",
       "      <td>0</td>\n",
       "      <td>33.6</td>\n",
       "      <td>0.627</td>\n",
       "      <td>50</td>\n",
       "      <td>0</td>\n",
       "      <td>Positive</td>\n",
       "    </tr>\n",
       "    <tr>\n",
       "      <th>1</th>\n",
       "      <td>ICU200011</td>\n",
       "      <td>1</td>\n",
       "      <td>85</td>\n",
       "      <td>66</td>\n",
       "      <td>29</td>\n",
       "      <td>0</td>\n",
       "      <td>26.6</td>\n",
       "      <td>0.351</td>\n",
       "      <td>31</td>\n",
       "      <td>0</td>\n",
       "      <td>Negative</td>\n",
       "    </tr>\n",
       "    <tr>\n",
       "      <th>2</th>\n",
       "      <td>ICU200012</td>\n",
       "      <td>8</td>\n",
       "      <td>183</td>\n",
       "      <td>64</td>\n",
       "      <td>0</td>\n",
       "      <td>0</td>\n",
       "      <td>23.3</td>\n",
       "      <td>0.672</td>\n",
       "      <td>32</td>\n",
       "      <td>1</td>\n",
       "      <td>Positive</td>\n",
       "    </tr>\n",
       "    <tr>\n",
       "      <th>3</th>\n",
       "      <td>ICU200013</td>\n",
       "      <td>1</td>\n",
       "      <td>89</td>\n",
       "      <td>66</td>\n",
       "      <td>23</td>\n",
       "      <td>94</td>\n",
       "      <td>28.1</td>\n",
       "      <td>0.167</td>\n",
       "      <td>21</td>\n",
       "      <td>1</td>\n",
       "      <td>Negative</td>\n",
       "    </tr>\n",
       "    <tr>\n",
       "      <th>4</th>\n",
       "      <td>ICU200014</td>\n",
       "      <td>0</td>\n",
       "      <td>137</td>\n",
       "      <td>40</td>\n",
       "      <td>35</td>\n",
       "      <td>168</td>\n",
       "      <td>43.1</td>\n",
       "      <td>2.288</td>\n",
       "      <td>33</td>\n",
       "      <td>1</td>\n",
       "      <td>Positive</td>\n",
       "    </tr>\n",
       "  </tbody>\n",
       "</table>\n",
       "</div>"
      ],
      "text/plain": [
       "          ID  PRG   PL  PR  SK   TS   M11    BD2  Age  Insurance   Sepssis\n",
       "0  ICU200010    6  148  72  35    0  33.6  0.627   50          0  Positive\n",
       "1  ICU200011    1   85  66  29    0  26.6  0.351   31          0  Negative\n",
       "2  ICU200012    8  183  64   0    0  23.3  0.672   32          1  Positive\n",
       "3  ICU200013    1   89  66  23   94  28.1  0.167   21          1  Negative\n",
       "4  ICU200014    0  137  40  35  168  43.1  2.288   33          1  Positive"
      ]
     },
     "execution_count": 27,
     "metadata": {},
     "output_type": "execute_result"
    }
   ],
   "source": [
    "# Print first 5 rows of dataset\n",
    "data.head()"
   ]
  },
  {
   "cell_type": "code",
   "execution_count": 28,
   "metadata": {},
   "outputs": [
    {
     "data": {
      "text/plain": [
       "(599, 11)"
      ]
     },
     "execution_count": 28,
     "metadata": {},
     "output_type": "execute_result"
    }
   ],
   "source": [
    "# Check the number of rows and columns of the dataset\n",
    "data.shape"
   ]
  },
  {
   "cell_type": "code",
   "execution_count": 29,
   "metadata": {},
   "outputs": [
    {
     "data": {
      "text/html": [
       "<div>\n",
       "<style scoped>\n",
       "    .dataframe tbody tr th:only-of-type {\n",
       "        vertical-align: middle;\n",
       "    }\n",
       "\n",
       "    .dataframe tbody tr th {\n",
       "        vertical-align: top;\n",
       "    }\n",
       "\n",
       "    .dataframe thead th {\n",
       "        text-align: right;\n",
       "    }\n",
       "</style>\n",
       "<table border=\"1\" class=\"dataframe\">\n",
       "  <thead>\n",
       "    <tr style=\"text-align: right;\">\n",
       "      <th></th>\n",
       "      <th>PRG</th>\n",
       "      <th>PL</th>\n",
       "      <th>PR</th>\n",
       "      <th>SK</th>\n",
       "      <th>TS</th>\n",
       "      <th>M11</th>\n",
       "      <th>BD2</th>\n",
       "      <th>Age</th>\n",
       "      <th>Insurance</th>\n",
       "    </tr>\n",
       "  </thead>\n",
       "  <tbody>\n",
       "    <tr>\n",
       "      <th>count</th>\n",
       "      <td>599.000000</td>\n",
       "      <td>599.000000</td>\n",
       "      <td>599.000000</td>\n",
       "      <td>599.000000</td>\n",
       "      <td>599.000000</td>\n",
       "      <td>599.000000</td>\n",
       "      <td>599.000000</td>\n",
       "      <td>599.000000</td>\n",
       "      <td>599.000000</td>\n",
       "    </tr>\n",
       "    <tr>\n",
       "      <th>mean</th>\n",
       "      <td>3.824708</td>\n",
       "      <td>120.153589</td>\n",
       "      <td>68.732888</td>\n",
       "      <td>20.562604</td>\n",
       "      <td>79.460768</td>\n",
       "      <td>31.920033</td>\n",
       "      <td>0.481187</td>\n",
       "      <td>33.290484</td>\n",
       "      <td>0.686144</td>\n",
       "    </tr>\n",
       "    <tr>\n",
       "      <th>std</th>\n",
       "      <td>3.362839</td>\n",
       "      <td>32.682364</td>\n",
       "      <td>19.335675</td>\n",
       "      <td>16.017622</td>\n",
       "      <td>116.576176</td>\n",
       "      <td>8.008227</td>\n",
       "      <td>0.337552</td>\n",
       "      <td>11.828446</td>\n",
       "      <td>0.464447</td>\n",
       "    </tr>\n",
       "    <tr>\n",
       "      <th>min</th>\n",
       "      <td>0.000000</td>\n",
       "      <td>0.000000</td>\n",
       "      <td>0.000000</td>\n",
       "      <td>0.000000</td>\n",
       "      <td>0.000000</td>\n",
       "      <td>0.000000</td>\n",
       "      <td>0.078000</td>\n",
       "      <td>21.000000</td>\n",
       "      <td>0.000000</td>\n",
       "    </tr>\n",
       "    <tr>\n",
       "      <th>25%</th>\n",
       "      <td>1.000000</td>\n",
       "      <td>99.000000</td>\n",
       "      <td>64.000000</td>\n",
       "      <td>0.000000</td>\n",
       "      <td>0.000000</td>\n",
       "      <td>27.100000</td>\n",
       "      <td>0.248000</td>\n",
       "      <td>24.000000</td>\n",
       "      <td>0.000000</td>\n",
       "    </tr>\n",
       "    <tr>\n",
       "      <th>50%</th>\n",
       "      <td>3.000000</td>\n",
       "      <td>116.000000</td>\n",
       "      <td>70.000000</td>\n",
       "      <td>23.000000</td>\n",
       "      <td>36.000000</td>\n",
       "      <td>32.000000</td>\n",
       "      <td>0.383000</td>\n",
       "      <td>29.000000</td>\n",
       "      <td>1.000000</td>\n",
       "    </tr>\n",
       "    <tr>\n",
       "      <th>75%</th>\n",
       "      <td>6.000000</td>\n",
       "      <td>140.000000</td>\n",
       "      <td>80.000000</td>\n",
       "      <td>32.000000</td>\n",
       "      <td>123.500000</td>\n",
       "      <td>36.550000</td>\n",
       "      <td>0.647000</td>\n",
       "      <td>40.000000</td>\n",
       "      <td>1.000000</td>\n",
       "    </tr>\n",
       "    <tr>\n",
       "      <th>max</th>\n",
       "      <td>17.000000</td>\n",
       "      <td>198.000000</td>\n",
       "      <td>122.000000</td>\n",
       "      <td>99.000000</td>\n",
       "      <td>846.000000</td>\n",
       "      <td>67.100000</td>\n",
       "      <td>2.420000</td>\n",
       "      <td>81.000000</td>\n",
       "      <td>1.000000</td>\n",
       "    </tr>\n",
       "  </tbody>\n",
       "</table>\n",
       "</div>"
      ],
      "text/plain": [
       "              PRG          PL          PR          SK          TS         M11  \\\n",
       "count  599.000000  599.000000  599.000000  599.000000  599.000000  599.000000   \n",
       "mean     3.824708  120.153589   68.732888   20.562604   79.460768   31.920033   \n",
       "std      3.362839   32.682364   19.335675   16.017622  116.576176    8.008227   \n",
       "min      0.000000    0.000000    0.000000    0.000000    0.000000    0.000000   \n",
       "25%      1.000000   99.000000   64.000000    0.000000    0.000000   27.100000   \n",
       "50%      3.000000  116.000000   70.000000   23.000000   36.000000   32.000000   \n",
       "75%      6.000000  140.000000   80.000000   32.000000  123.500000   36.550000   \n",
       "max     17.000000  198.000000  122.000000   99.000000  846.000000   67.100000   \n",
       "\n",
       "              BD2         Age   Insurance  \n",
       "count  599.000000  599.000000  599.000000  \n",
       "mean     0.481187   33.290484    0.686144  \n",
       "std      0.337552   11.828446    0.464447  \n",
       "min      0.078000   21.000000    0.000000  \n",
       "25%      0.248000   24.000000    0.000000  \n",
       "50%      0.383000   29.000000    1.000000  \n",
       "75%      0.647000   40.000000    1.000000  \n",
       "max      2.420000   81.000000    1.000000  "
      ]
     },
     "execution_count": 29,
     "metadata": {},
     "output_type": "execute_result"
    }
   ],
   "source": [
    "# Check statistical measures\n",
    "data.describe()"
   ]
  },
  {
   "cell_type": "code",
   "execution_count": 30,
   "metadata": {},
   "outputs": [
    {
     "data": {
      "text/plain": [
       "ID           0\n",
       "PRG          0\n",
       "PL           0\n",
       "PR           0\n",
       "SK           0\n",
       "TS           0\n",
       "M11          0\n",
       "BD2          0\n",
       "Age          0\n",
       "Insurance    0\n",
       "Sepssis      0\n",
       "dtype: int64"
      ]
     },
     "execution_count": 30,
     "metadata": {},
     "output_type": "execute_result"
    }
   ],
   "source": [
    "# Check for null values\n",
    "data.isnull().sum()"
   ]
  },
  {
   "cell_type": "markdown",
   "metadata": {},
   "source": [
    "## Univariate Analysis"
   ]
  },
  {
   "cell_type": "markdown",
   "metadata": {},
   "source": [
    "### Check for outliers"
   ]
  },
  {
   "cell_type": "code",
   "execution_count": 31,
   "metadata": {},
   "outputs": [
    {
     "data": {
      "image/png": "[encoded data removed]",
      "text/plain": [
       "<Figure size 1000x800 with 1 Axes>"
      ]
     },
     "metadata": {},
     "output_type": "display_data"
    }
   ],
   "source": [
    "plt.figure(figsize=(10, 8))\n",
    "sns.boxplot(data=data.drop(['ID', 'TS', 'Sepssis'], axis=1), orient='h')\n",
    "plt.title('Outliers')\n",
    "plt.show()"
   ]
  },
  {
   "cell_type": "markdown",
   "metadata": {},
   "source": [
    "## Answer Analytical Questions"
   ]
  },
  {
   "cell_type": "markdown",
   "metadata": {},
   "source": [
    "### Question 1: What is the distribution of ages among the patients?"
   ]
  },
  {
   "cell_type": "code",
   "execution_count": 32,
   "metadata": {},
   "outputs": [
    {
     "data": {
      "image/png": "[encoded data removed]",
      "text/plain": [
       "<Figure size 1000x600 with 1 Axes>"
      ]
     },
     "metadata": {},
     "output_type": "display_data"
    }
   ],
   "source": [
    "# Histogram plot for age distribution among the patients\n",
    "plt.figure(figsize=(10, 6))\n",
    "sns.histplot(data['Age'], bins=20, kde=True)\n",
    "plt.title('Distribution of Ages among Patients')\n",
    "plt.xlabel('Age')\n",
    "plt.ylabel('Frequency')\n",
    "plt.show()"
   ]
  },
  {
   "cell_type": "markdown",
   "metadata": {},
   "source": [
    "### Question 2: Is there a correlation between Plasma glucose concentration (PL) and Sepsis?"
   ]
  },
  {
   "cell_type": "code",
   "execution_count": 33,
   "metadata": {},
   "outputs": [
    {
     "data": {
      "image/png": "[encoded data removed]",
      "text/plain": [
       "<Figure size 1000x600 with 1 Axes>"
      ]
     },
     "metadata": {},
     "output_type": "display_data"
    }
   ],
   "source": [
    "# Boxplot\n",
    "plt.figure(figsize=(10, 6))\n",
    "sns.boxplot(x='Sepssis', y='PL', data=data)\n",
    "plt.title('Plasma Glucose Concentration by Sepsis Status')\n",
    "plt.xlabel('Sepsis Status')\n",
    "plt.ylabel('Plasma Glucose Concentration (PL)')\n",
    "plt.show()"
   ]
  },
  {
   "cell_type": "markdown",
   "metadata": {},
   "source": [
    "### Question 3: What is the relationship between Age and Number of times pregnant (PRG)?"
   ]
  },
  {
   "cell_type": "code",
   "execution_count": 34,
   "metadata": {},
   "outputs": [
    {
     "data": {
      "image/png": "[encoded data removed]",
      "text/plain": [
       "<Figure size 1000x600 with 1 Axes>"
      ]
     },
     "metadata": {},
     "output_type": "display_data"
    }
   ],
   "source": [
    "\n",
    "plt.figure(figsize=(10, 6))\n",
    "sns.scatterplot(x='Age', y='PRG', data=data)\n",
    "plt.title('Relationship between Age and Number of Times Pregnant (PRG)')\n",
    "plt.xlabel('Age')\n",
    "plt.ylabel('Number of Times Pregnant (PRG)')\n",
    "plt.show()"
   ]
  },
  {
   "cell_type": "markdown",
   "metadata": {},
   "source": [
    "### Question 4: What is the average Skin Thickness (SK) by Insurance status?"
   ]
  },
  {
   "cell_type": "code",
   "execution_count": 35,
   "metadata": {},
   "outputs": [
    {
     "data": {
      "image/png": "[encoded data removed]",
      "text/plain": [
       "<Figure size 1000x600 with 1 Axes>"
      ]
     },
     "metadata": {},
     "output_type": "display_data"
    }
   ],
   "source": [
    "plt.figure(figsize=(10, 6))\n",
    "insurance_avg_sk = data.groupby('Insurance')['SK'].mean().reset_index()\n",
    "sns.barplot(x='Insurance', y='SK', data=insurance_avg_sk)\n",
    "plt.title('Average Skin Thickness (SK) by Insurance Status')\n",
    "plt.xlabel('Insurance Status')\n",
    "plt.ylabel('Average Skin Thickness (SK)')\n",
    "plt.show()"
   ]
  },
  {
   "cell_type": "markdown",
   "metadata": {},
   "source": [
    "## Hypothesis Testing"
   ]
  },
  {
   "cell_type": "code",
   "execution_count": 36,
   "metadata": {},
   "outputs": [
    {
     "name": "stdout",
     "output_type": "stream",
     "text": [
      "T-statistic: nan, P-value: nan\n"
     ]
    },
    {
     "data": {
      "image/png": "[encoded data removed]",
      "text/plain": [
       "<Figure size 1000x600 with 1 Axes>"
      ]
     },
     "metadata": {},
     "output_type": "display_data"
    },
    {
     "name": "stdout",
     "output_type": "stream",
     "text": [
      "Fail to reject the null hypothesis. There is no significant difference in Body Mass Index (M11) between patients with positive and negative Sepsis.\n"
     ]
    }
   ],
   "source": [
    "# Extract the Body Mass Index (M11) for positive and negative Sepsis groups\n",
    "positive_sepsis = data[data['Sepssis'] == 1]['M11']\n",
    "negative_sepsis = data[data['Sepssis'] == 0]['M11']\n",
    "\n",
    "# Perform an independent t-test\n",
    "t_stat, p_value = stats.ttest_ind(positive_sepsis.dropna(), negative_sepsis.dropna())\n",
    "print(f\"T-statistic: {t_stat:.4f}, P-value: {p_value:.4f}\")\n",
    "\n",
    "# Visualize the results\n",
    "plt.figure(figsize=(10, 6))\n",
    "sns.boxplot(x='Sepssis', y='M11', data=data)\n",
    "plt.title('Body Mass Index (M11) by Sepsis Status')\n",
    "plt.xlabel('Sepsis Status (0 = Negative, 1 = Positive)')\n",
    "plt.ylabel('Body Mass Index (M11)')\n",
    "plt.xticks([0, 1], ['Negative Sepsis', 'Positive Sepsis'])\n",
    "plt.show()\n",
    "\n",
    "# Display statistical results on the plot\n",
    "if p_value < 0.05:\n",
    "    print(\"Reject the null hypothesis. There is a significant difference in Body Mass Index (M11) between patients with positive and negative Sepsis.\")\n",
    "else:\n",
    "    print(\"Fail to reject the null hypothesis. There is no significant difference in Body Mass Index (M11) between patients with positive and negative Sepsis.\")\n"
   ]
  },
  {
   "cell_type": "markdown",
   "metadata": {},
   "source": [
    "## `Data Preparation`"
   ]
  },
  {
   "cell_type": "code",
   "execution_count": 37,
   "metadata": {},
   "outputs": [
    {
     "data": {
      "text/plain": [
       "Sepssis\n",
       "Negative    391\n",
       "Positive    208\n",
       "Name: count, dtype: int64"
      ]
     },
     "execution_count": 37,
     "metadata": {},
     "output_type": "execute_result"
    }
   ],
   "source": [
    "data['Sepssis'].value_counts()"
   ]
  },
  {
   "cell_type": "code",
   "execution_count": 38,
   "metadata": {},
   "outputs": [],
   "source": [
    "X = data.drop(columns=['ID','Sepssis'])\n",
    "y = data['Sepssis']"
   ]
  },
  {
   "cell_type": "code",
   "execution_count": 39,
   "metadata": {},
   "outputs": [
    {
     "data": {
      "text/html": [
       "<div>\n",
       "<style scoped>\n",
       "    .dataframe tbody tr th:only-of-type {\n",
       "        vertical-align: middle;\n",
       "    }\n",
       "\n",
       "    .dataframe tbody tr th {\n",
       "        vertical-align: top;\n",
       "    }\n",
       "\n",
       "    .dataframe thead th {\n",
       "        text-align: right;\n",
       "    }\n",
       "</style>\n",
       "<table border=\"1\" class=\"dataframe\">\n",
       "  <thead>\n",
       "    <tr style=\"text-align: right;\">\n",
       "      <th></th>\n",
       "      <th>PRG</th>\n",
       "      <th>PL</th>\n",
       "      <th>PR</th>\n",
       "      <th>SK</th>\n",
       "      <th>TS</th>\n",
       "      <th>M11</th>\n",
       "      <th>BD2</th>\n",
       "      <th>Age</th>\n",
       "      <th>Insurance</th>\n",
       "    </tr>\n",
       "  </thead>\n",
       "  <tbody>\n",
       "    <tr>\n",
       "      <th>0</th>\n",
       "      <td>6</td>\n",
       "      <td>148</td>\n",
       "      <td>72</td>\n",
       "      <td>35</td>\n",
       "      <td>0</td>\n",
       "      <td>33.6</td>\n",
       "      <td>0.627</td>\n",
       "      <td>50</td>\n",
       "      <td>0</td>\n",
       "    </tr>\n",
       "    <tr>\n",
       "      <th>1</th>\n",
       "      <td>1</td>\n",
       "      <td>85</td>\n",
       "      <td>66</td>\n",
       "      <td>29</td>\n",
       "      <td>0</td>\n",
       "      <td>26.6</td>\n",
       "      <td>0.351</td>\n",
       "      <td>31</td>\n",
       "      <td>0</td>\n",
       "    </tr>\n",
       "    <tr>\n",
       "      <th>2</th>\n",
       "      <td>8</td>\n",
       "      <td>183</td>\n",
       "      <td>64</td>\n",
       "      <td>0</td>\n",
       "      <td>0</td>\n",
       "      <td>23.3</td>\n",
       "      <td>0.672</td>\n",
       "      <td>32</td>\n",
       "      <td>1</td>\n",
       "    </tr>\n",
       "    <tr>\n",
       "      <th>3</th>\n",
       "      <td>1</td>\n",
       "      <td>89</td>\n",
       "      <td>66</td>\n",
       "      <td>23</td>\n",
       "      <td>94</td>\n",
       "      <td>28.1</td>\n",
       "      <td>0.167</td>\n",
       "      <td>21</td>\n",
       "      <td>1</td>\n",
       "    </tr>\n",
       "    <tr>\n",
       "      <th>4</th>\n",
       "      <td>0</td>\n",
       "      <td>137</td>\n",
       "      <td>40</td>\n",
       "      <td>35</td>\n",
       "      <td>168</td>\n",
       "      <td>43.1</td>\n",
       "      <td>2.288</td>\n",
       "      <td>33</td>\n",
       "      <td>1</td>\n",
       "    </tr>\n",
       "    <tr>\n",
       "      <th>...</th>\n",
       "      <td>...</td>\n",
       "      <td>...</td>\n",
       "      <td>...</td>\n",
       "      <td>...</td>\n",
       "      <td>...</td>\n",
       "      <td>...</td>\n",
       "      <td>...</td>\n",
       "      <td>...</td>\n",
       "      <td>...</td>\n",
       "    </tr>\n",
       "    <tr>\n",
       "      <th>594</th>\n",
       "      <td>6</td>\n",
       "      <td>123</td>\n",
       "      <td>72</td>\n",
       "      <td>45</td>\n",
       "      <td>230</td>\n",
       "      <td>33.6</td>\n",
       "      <td>0.733</td>\n",
       "      <td>34</td>\n",
       "      <td>0</td>\n",
       "    </tr>\n",
       "    <tr>\n",
       "      <th>595</th>\n",
       "      <td>0</td>\n",
       "      <td>188</td>\n",
       "      <td>82</td>\n",
       "      <td>14</td>\n",
       "      <td>185</td>\n",
       "      <td>32.0</td>\n",
       "      <td>0.682</td>\n",
       "      <td>22</td>\n",
       "      <td>1</td>\n",
       "    </tr>\n",
       "    <tr>\n",
       "      <th>596</th>\n",
       "      <td>0</td>\n",
       "      <td>67</td>\n",
       "      <td>76</td>\n",
       "      <td>0</td>\n",
       "      <td>0</td>\n",
       "      <td>45.3</td>\n",
       "      <td>0.194</td>\n",
       "      <td>46</td>\n",
       "      <td>1</td>\n",
       "    </tr>\n",
       "    <tr>\n",
       "      <th>597</th>\n",
       "      <td>1</td>\n",
       "      <td>89</td>\n",
       "      <td>24</td>\n",
       "      <td>19</td>\n",
       "      <td>25</td>\n",
       "      <td>27.8</td>\n",
       "      <td>0.559</td>\n",
       "      <td>21</td>\n",
       "      <td>0</td>\n",
       "    </tr>\n",
       "    <tr>\n",
       "      <th>598</th>\n",
       "      <td>1</td>\n",
       "      <td>173</td>\n",
       "      <td>74</td>\n",
       "      <td>0</td>\n",
       "      <td>0</td>\n",
       "      <td>36.8</td>\n",
       "      <td>0.088</td>\n",
       "      <td>38</td>\n",
       "      <td>1</td>\n",
       "    </tr>\n",
       "  </tbody>\n",
       "</table>\n",
       "<p>599 rows × 9 columns</p>\n",
       "</div>"
      ],
      "text/plain": [
       "     PRG   PL  PR  SK   TS   M11    BD2  Age  Insurance\n",
       "0      6  148  72  35    0  33.6  0.627   50          0\n",
       "1      1   85  66  29    0  26.6  0.351   31          0\n",
       "2      8  183  64   0    0  23.3  0.672   32          1\n",
       "3      1   89  66  23   94  28.1  0.167   21          1\n",
       "4      0  137  40  35  168  43.1  2.288   33          1\n",
       "..   ...  ...  ..  ..  ...   ...    ...  ...        ...\n",
       "594    6  123  72  45  230  33.6  0.733   34          0\n",
       "595    0  188  82  14  185  32.0  0.682   22          1\n",
       "596    0   67  76   0    0  45.3  0.194   46          1\n",
       "597    1   89  24  19   25  27.8  0.559   21          0\n",
       "598    1  173  74   0    0  36.8  0.088   38          1\n",
       "\n",
       "[599 rows x 9 columns]"
      ]
     },
     "execution_count": 39,
     "metadata": {},
     "output_type": "execute_result"
    }
   ],
   "source": [
    "X"
   ]
  },
  {
   "cell_type": "code",
   "execution_count": 40,
   "metadata": {},
   "outputs": [
    {
     "data": {
      "text/plain": [
       "0      Positive\n",
       "1      Negative\n",
       "2      Positive\n",
       "3      Negative\n",
       "4      Positive\n",
       "         ...   \n",
       "594    Negative\n",
       "595    Positive\n",
       "596    Negative\n",
       "597    Negative\n",
       "598    Positive\n",
       "Name: Sepssis, Length: 599, dtype: object"
      ]
     },
     "execution_count": 40,
     "metadata": {},
     "output_type": "execute_result"
    }
   ],
   "source": [
    "y"
   ]
  },
  {
   "cell_type": "code",
   "execution_count": 41,
   "metadata": {},
   "outputs": [],
   "source": [
    "X_train, X_test, y_train, y_test = train_test_split(X, y, stratify=y, random_state=42)"
   ]
  },
  {
   "cell_type": "code",
   "execution_count": 42,
   "metadata": {},
   "outputs": [],
   "source": [
    "# Initialize a LabelEncoder to encode the target variable\n",
    "label_encoder = LabelEncoder()\n",
    "y_train_encoder = label_encoder.fit_transform(y_train)\n",
    "y_test_encoder = label_encoder.transform(y_test)"
   ]
  },
  {
   "cell_type": "code",
   "execution_count": 43,
   "metadata": {},
   "outputs": [
    {
     "data": {
      "text/plain": [
       "Index(['PRG', 'PL', 'PR', 'SK', 'TS', 'M11', 'BD2', 'Age', 'Insurance'], dtype='object')"
      ]
     },
     "execution_count": 43,
     "metadata": {},
     "output_type": "execute_result"
    }
   ],
   "source": [
    "input_variables = X.columns\n",
    "input_variables"
   ]
  },
  {
   "cell_type": "code",
   "execution_count": 44,
   "metadata": {},
   "outputs": [],
   "source": [
    "preprocessor = ColumnTransformer(\n",
    "    transformers=[\n",
    "        ('imputer', SimpleImputer(strategy='median'), input_variables),\n",
    "        ('scaler', RobustScaler(), input_variables),\n",
    "        ('log_transformations', FunctionTransformer(np.log1p), input_variables)\n",
    "    ]\n",
    ")"
   ]
  },
  {
   "cell_type": "markdown",
   "metadata": {},
   "source": [
    "## `Modeling`"
   ]
  },
  {
   "cell_type": "code",
   "execution_count": 45,
   "metadata": {},
   "outputs": [],
   "source": [
    "models = [\n",
    "    ('Decision_Tree', DecisionTreeClassifier(random_state=42)),\n",
    "    ('Logistic_Regression', LogisticRegression(random_state=42, max_iter=1000)),\n",
    "    ('KNC', KNeighborsClassifier(n_neighbors=5)),\n",
    "    ('Random_Forest', RandomForestClassifier(random_state=42))\n",
    "]"
   ]
  },
  {
   "cell_type": "markdown",
   "metadata": {},
   "source": [
    "### Train on Unbalanced dataset"
   ]
  },
  {
   "cell_type": "code",
   "execution_count": 46,
   "metadata": {},
   "outputs": [
    {
     "data": {
      "text/html": [
       "<style type=\"text/css\">\n",
       "#T_8df7b_row0_col1, #T_8df7b_row0_col2, #T_8df7b_row0_col3, #T_8df7b_row0_col4, #T_8df7b_row0_col5 {\n",
       "  background-color: #00ff80;\n",
       "  color: #000000;\n",
       "}\n",
       "#T_8df7b_row1_col1 {\n",
       "  background-color: #00baa2;\n",
       "  color: #f1f1f1;\n",
       "}\n",
       "#T_8df7b_row1_col2 {\n",
       "  background-color: #00b5a4;\n",
       "  color: #f1f1f1;\n",
       "}\n",
       "#T_8df7b_row1_col3 {\n",
       "  background-color: #00b3a6;\n",
       "  color: #f1f1f1;\n",
       "}\n",
       "#T_8df7b_row1_col4 {\n",
       "  background-color: #00cb9a;\n",
       "  color: #000000;\n",
       "}\n",
       "#T_8df7b_row1_col5 {\n",
       "  background-color: #00aaaa;\n",
       "  color: #f1f1f1;\n",
       "}\n",
       "#T_8df7b_row2_col1 {\n",
       "  background-color: #0017f4;\n",
       "  color: #f1f1f1;\n",
       "}\n",
       "#T_8df7b_row2_col2 {\n",
       "  background-color: #0060cf;\n",
       "  color: #f1f1f1;\n",
       "}\n",
       "#T_8df7b_row2_col3 {\n",
       "  background-color: #0049db;\n",
       "  color: #f1f1f1;\n",
       "}\n",
       "#T_8df7b_row2_col4, #T_8df7b_row3_col1, #T_8df7b_row3_col2, #T_8df7b_row3_col3, #T_8df7b_row3_col5 {\n",
       "  background-color: #0000ff;\n",
       "  color: #f1f1f1;\n",
       "}\n",
       "#T_8df7b_row2_col5 {\n",
       "  background-color: #008eb8;\n",
       "  color: #f1f1f1;\n",
       "}\n",
       "#T_8df7b_row3_col4 {\n",
       "  background-color: #0003fe;\n",
       "  color: #f1f1f1;\n",
       "}\n",
       "</style>\n",
       "<table id=\"T_8df7b\">\n",
       "  <thead>\n",
       "    <tr>\n",
       "      <th class=\"blank level0\" >&nbsp;</th>\n",
       "      <th id=\"T_8df7b_level0_col0\" class=\"col_heading level0 col0\" >Model</th>\n",
       "      <th id=\"T_8df7b_level0_col1\" class=\"col_heading level0 col1\" >Accuracy Score</th>\n",
       "      <th id=\"T_8df7b_level0_col2\" class=\"col_heading level0 col2\" >F1 Score</th>\n",
       "      <th id=\"T_8df7b_level0_col3\" class=\"col_heading level0 col3\" >ROC AUC Score</th>\n",
       "      <th id=\"T_8df7b_level0_col4\" class=\"col_heading level0 col4\" >Precision Score</th>\n",
       "      <th id=\"T_8df7b_level0_col5\" class=\"col_heading level0 col5\" >Recall Score</th>\n",
       "    </tr>\n",
       "  </thead>\n",
       "  <tbody>\n",
       "    <tr>\n",
       "      <th id=\"T_8df7b_level0_row0\" class=\"row_heading level0 row0\" >1</th>\n",
       "      <td id=\"T_8df7b_row0_col0\" class=\"data row0 col0\" >LogisticRegression</td>\n",
       "      <td id=\"T_8df7b_row0_col1\" class=\"data row0 col1\" >0.760000</td>\n",
       "      <td id=\"T_8df7b_row0_col2\" class=\"data row0 col2\" >0.632653</td>\n",
       "      <td id=\"T_8df7b_row0_col3\" class=\"data row0 col3\" >0.721546</td>\n",
       "      <td id=\"T_8df7b_row0_col4\" class=\"data row0 col4\" >0.673913</td>\n",
       "      <td id=\"T_8df7b_row0_col5\" class=\"data row0 col5\" >0.596154</td>\n",
       "    </tr>\n",
       "    <tr>\n",
       "      <th id=\"T_8df7b_level0_row1\" class=\"row_heading level0 row1\" >3</th>\n",
       "      <td id=\"T_8df7b_row1_col0\" class=\"data row1 col0\" >RandomForestClassifier</td>\n",
       "      <td id=\"T_8df7b_row1_col1\" class=\"data row1 col1\" >0.740000</td>\n",
       "      <td id=\"T_8df7b_row1_col2\" class=\"data row1 col2\" >0.589474</td>\n",
       "      <td id=\"T_8df7b_row1_col3\" class=\"data row1 col3\" >0.692700</td>\n",
       "      <td id=\"T_8df7b_row1_col4\" class=\"data row1 col4\" >0.651163</td>\n",
       "      <td id=\"T_8df7b_row1_col5\" class=\"data row1 col5\" >0.538462</td>\n",
       "    </tr>\n",
       "    <tr>\n",
       "      <th id=\"T_8df7b_level0_row2\" class=\"row_heading level0 row2\" >2</th>\n",
       "      <td id=\"T_8df7b_row2_col0\" class=\"data row2 col0\" >KNeighborsClassifier</td>\n",
       "      <td id=\"T_8df7b_row2_col1\" class=\"data row2 col1\" >0.693333</td>\n",
       "      <td id=\"T_8df7b_row2_col2\" class=\"data row2 col2\" >0.540000</td>\n",
       "      <td id=\"T_8df7b_row2_col3\" class=\"data row2 col3\" >0.652473</td>\n",
       "      <td id=\"T_8df7b_row2_col4\" class=\"data row2 col4\" >0.562500</td>\n",
       "      <td id=\"T_8df7b_row2_col5\" class=\"data row2 col5\" >0.519231</td>\n",
       "    </tr>\n",
       "    <tr>\n",
       "      <th id=\"T_8df7b_level0_row3\" class=\"row_heading level0 row3\" >0</th>\n",
       "      <td id=\"T_8df7b_row3_col0\" class=\"data row3 col0\" >DecisionTreeClassifier</td>\n",
       "      <td id=\"T_8df7b_row3_col1\" class=\"data row3 col1\" >0.686667</td>\n",
       "      <td id=\"T_8df7b_row3_col2\" class=\"data row3 col2\" >0.483516</td>\n",
       "      <td id=\"T_8df7b_row3_col3\" class=\"data row3 col3\" >0.624804</td>\n",
       "      <td id=\"T_8df7b_row3_col4\" class=\"data row3 col4\" >0.564103</td>\n",
       "      <td id=\"T_8df7b_row3_col5\" class=\"data row3 col5\" >0.423077</td>\n",
       "    </tr>\n",
       "  </tbody>\n",
       "</table>\n"
      ],
      "text/plain": [
       "<pandas.io.formats.style.Styler at 0x24d4939df00>"
      ]
     },
     "execution_count": 46,
     "metadata": {},
     "output_type": "execute_result"
    }
   ],
   "source": [
    "metrics = []\n",
    "\n",
    "# Iterate over each tuple to train the model, make predictions on the test set, and compute evaluation metrics\n",
    "for model_name, model in models:\n",
    "    pipeline = Pipeline(\n",
    "        steps=[\n",
    "            ('preprocesor',preprocessor),\n",
    "            ('model',model)\n",
    "        ]\n",
    "    )\n",
    "    \n",
    "    pipeline.fit(X_train, y_train_encoder)\n",
    "    y_pred = pipeline.predict(X_test)\n",
    "\n",
    "    # Metrics such as accuracy, F1 score, ROC AUC score, precision, and recall are calculated for each model\n",
    "    acc = accuracy_score(y_test_encoder, y_pred)\n",
    "    f1 = f1_score(y_test_encoder, y_pred)\n",
    "    roc = roc_auc_score(y_test_encoder, y_pred)\n",
    "    pr = precision_score(y_test_encoder, y_pred)\n",
    "    rc = recall_score(y_test_encoder, y_pred)\n",
    "\n",
    "    metrics.append({'Model': model.__class__.__name__,\n",
    "                    'Accuracy Score': acc,\n",
    "                    'F1 Score': f1,\n",
    "                    'ROC AUC Score': roc,\n",
    "                    'Precision Score': pr,\n",
    "                    'Recall Score': rc})\n",
    "\n",
    "# Create a pandas DataFrame from the metrics and sort it based on the F1 score in descending order\n",
    "overall = pd.DataFrame(metrics)\n",
    "overall = overall.sort_values(by='F1 Score', ascending=False)\n",
    "overall_styled = overall.style.background_gradient(cmap='winter')\n",
    "overall_styled"
   ]
  },
  {
   "cell_type": "markdown",
   "metadata": {},
   "source": [
    "### Train On Balanced Dataset"
   ]
  },
  {
   "cell_type": "code",
   "execution_count": 47,
   "metadata": {},
   "outputs": [
    {
     "data": {
      "text/html": [
       "<style type=\"text/css\">\n",
       "#T_a13dc_row0_col1, #T_a13dc_row0_col2, #T_a13dc_row0_col3, #T_a13dc_row0_col4 {\n",
       "  background-color: #00ff80;\n",
       "  color: #000000;\n",
       "}\n",
       "#T_a13dc_row1_col1, #T_a13dc_row1_col3 {\n",
       "  background-color: #00f087;\n",
       "  color: #000000;\n",
       "}\n",
       "#T_a13dc_row1_col2 {\n",
       "  background-color: #00cb9a;\n",
       "  color: #000000;\n",
       "}\n",
       "#T_a13dc_row1_col4 {\n",
       "  background-color: #00ea8a;\n",
       "  color: #000000;\n",
       "}\n",
       "#T_a13dc_row2_col1, #T_a13dc_row2_col3 {\n",
       "  background-color: #005ad2;\n",
       "  color: #f1f1f1;\n",
       "}\n",
       "#T_a13dc_row2_col2 {\n",
       "  background-color: #001cf1;\n",
       "  color: #f1f1f1;\n",
       "}\n",
       "#T_a13dc_row2_col4 {\n",
       "  background-color: #0052d6;\n",
       "  color: #f1f1f1;\n",
       "}\n",
       "#T_a13dc_row3_col1, #T_a13dc_row3_col2, #T_a13dc_row3_col3, #T_a13dc_row3_col4 {\n",
       "  background-color: #0000ff;\n",
       "  color: #f1f1f1;\n",
       "}\n",
       "</style>\n",
       "<table id=\"T_a13dc\">\n",
       "  <thead>\n",
       "    <tr>\n",
       "      <th class=\"blank level0\" >&nbsp;</th>\n",
       "      <th id=\"T_a13dc_level0_col0\" class=\"col_heading level0 col0\" >model_name</th>\n",
       "      <th id=\"T_a13dc_level0_col1\" class=\"col_heading level0 col1\" >accuracy</th>\n",
       "      <th id=\"T_a13dc_level0_col2\" class=\"col_heading level0 col2\" >precision</th>\n",
       "      <th id=\"T_a13dc_level0_col3\" class=\"col_heading level0 col3\" >recall</th>\n",
       "      <th id=\"T_a13dc_level0_col4\" class=\"col_heading level0 col4\" >f1_score</th>\n",
       "      <th id=\"T_a13dc_level0_col5\" class=\"col_heading level0 col5\" >conf_matrix</th>\n",
       "    </tr>\n",
       "  </thead>\n",
       "  <tbody>\n",
       "    <tr>\n",
       "      <th id=\"T_a13dc_level0_row0\" class=\"row_heading level0 row0\" >1</th>\n",
       "      <td id=\"T_a13dc_row0_col0\" class=\"data row0 col0\" >Logistic_Regression</td>\n",
       "      <td id=\"T_a13dc_row0_col1\" class=\"data row0 col1\" >0.753333</td>\n",
       "      <td id=\"T_a13dc_row0_col2\" class=\"data row0 col2\" >0.770312</td>\n",
       "      <td id=\"T_a13dc_row0_col3\" class=\"data row0 col3\" >0.753333</td>\n",
       "      <td id=\"T_a13dc_row0_col4\" class=\"data row0 col4\" >0.757797</td>\n",
       "      <td id=\"T_a13dc_row0_col5\" class=\"data row0 col5\" >[[74 24]\n",
       " [13 39]]</td>\n",
       "    </tr>\n",
       "    <tr>\n",
       "      <th id=\"T_a13dc_level0_row1\" class=\"row_heading level0 row1\" >3</th>\n",
       "      <td id=\"T_a13dc_row1_col0\" class=\"data row1 col0\" >Random_Forest</td>\n",
       "      <td id=\"T_a13dc_row1_col1\" class=\"data row1 col1\" >0.746667</td>\n",
       "      <td id=\"T_a13dc_row1_col2\" class=\"data row1 col2\" >0.751844</td>\n",
       "      <td id=\"T_a13dc_row1_col3\" class=\"data row1 col3\" >0.746667</td>\n",
       "      <td id=\"T_a13dc_row1_col4\" class=\"data row1 col4\" >0.748719</td>\n",
       "      <td id=\"T_a13dc_row1_col5\" class=\"data row1 col5\" >[[77 21]\n",
       " [17 35]]</td>\n",
       "    </tr>\n",
       "    <tr>\n",
       "      <th id=\"T_a13dc_level0_row2\" class=\"row_heading level0 row2\" >0</th>\n",
       "      <td id=\"T_a13dc_row2_col0\" class=\"data row2 col0\" >Decision_Tree</td>\n",
       "      <td id=\"T_a13dc_row2_col1\" class=\"data row2 col1\" >0.680000</td>\n",
       "      <td id=\"T_a13dc_row2_col2\" class=\"data row2 col2\" >0.689490</td>\n",
       "      <td id=\"T_a13dc_row2_col3\" class=\"data row2 col3\" >0.680000</td>\n",
       "      <td id=\"T_a13dc_row2_col4\" class=\"data row2 col4\" >0.683675</td>\n",
       "      <td id=\"T_a13dc_row2_col5\" class=\"data row2 col5\" >[[71 27]\n",
       " [21 31]]</td>\n",
       "    </tr>\n",
       "    <tr>\n",
       "      <th id=\"T_a13dc_level0_row3\" class=\"row_heading level0 row3\" >2</th>\n",
       "      <td id=\"T_a13dc_row3_col0\" class=\"data row3 col0\" >KNC</td>\n",
       "      <td id=\"T_a13dc_row3_col1\" class=\"data row3 col1\" >0.640000</td>\n",
       "      <td id=\"T_a13dc_row3_col2\" class=\"data row3 col2\" >0.679459</td>\n",
       "      <td id=\"T_a13dc_row3_col3\" class=\"data row3 col3\" >0.640000</td>\n",
       "      <td id=\"T_a13dc_row3_col4\" class=\"data row3 col4\" >0.648578</td>\n",
       "      <td id=\"T_a13dc_row3_col5\" class=\"data row3 col5\" >[[61 37]\n",
       " [17 35]]</td>\n",
       "    </tr>\n",
       "  </tbody>\n",
       "</table>\n"
      ],
      "text/plain": [
       "<pandas.io.formats.style.Styler at 0x24d44e97790>"
      ]
     },
     "execution_count": 47,
     "metadata": {},
     "output_type": "execute_result"
    }
   ],
   "source": [
    "# Initialize a dictionary to store all pipelines\n",
    "all_balanced_pipelines = {}\n",
    "\n",
    "# Define a table to hold all the metrics\n",
    "balanced_metrics_table = pd.DataFrame(columns=['model_name', 'accuracy', 'precision', 'recall', 'f1_score', 'conf_matrix'])\n",
    "\n",
    "# Loop through the models\n",
    "for model_name, model in models:\n",
    "    # Build final pipeline with preprocessor estimator\n",
    "    balanced_pipeline = ImbPipeline(steps=[\n",
    "        ('preprocessor', preprocessor),\n",
    "        ('smote-sampler', SMOTE(random_state=42)),\n",
    "        ('estimator', model)\n",
    "    ])\n",
    "\n",
    "    # Fit training data to final pipeline\n",
    "    balanced_pipeline.fit(X_train, y_train_encoder)\n",
    "\n",
    "    # Add models to all_pipeline dictionary\n",
    "    all_balanced_pipelines[model_name] = balanced_pipeline\n",
    "\n",
    "    # Make prediction\n",
    "    y_predict = balanced_pipeline.predict(X_test)\n",
    "\n",
    "    # Generate Classification report for each pipeline or model\n",
    "    balanced_metrics = classification_report(y_test_encoder, y_predict, output_dict=True)\n",
    "        \n",
    "    # Compute confusion matrix\n",
    "    conf_matrix = confusion_matrix(y_test_encoder, y_predict)\n",
    "\n",
    "    # Grab all important metrics\n",
    "    accuracy = balanced_metrics['accuracy']\n",
    "    precision = balanced_metrics['weighted avg']['precision']\n",
    "    recall = balanced_metrics['weighted avg']['recall']\n",
    "    f1_score = balanced_metrics['weighted avg']['f1-score']\n",
    "\n",
    "    # Add important metrics to metrics_table\n",
    "    balanced_metrics_table.loc[len(balanced_metrics_table)] = [model_name, accuracy, precision, recall, f1_score, conf_matrix]\n",
    "\n",
    "# Display metrics_table\n",
    "balanced_metrics_table = balanced_metrics_table.sort_values(by=\"accuracy\", ascending=False)\n",
    "balanced_metrics_table_styled = balanced_metrics_table.style.background_gradient(cmap='winter')\n",
    "balanced_metrics_table_styled"
   ]
  },
  {
   "cell_type": "code",
   "execution_count": 49,
   "metadata": {},
   "outputs": [
    {
     "name": "stdout",
     "output_type": "stream",
     "text": [
      "Fitting 5 folds for each of 486 candidates, totalling 2430 fits\n"
     ]
    },
    {
     "ename": "InvalidParameterError",
     "evalue": "The 'max_features' parameter of RandomForestClassifier must be an int in the range [1, inf), a float in the range (0.0, 1.0], a str among {'log2', 'sqrt'} or None. Got 'auto' instead.",
     "output_type": "error",
     "traceback": [
      "\u001b[1;31m---------------------------------------------------------------------------\u001b[0m",
      "\u001b[1;31mInvalidParameterError\u001b[0m                     Traceback (most recent call last)",
      "Cell \u001b[1;32mIn[49], line 44\u001b[0m\n\u001b[0;32m     37\u001b[0m balanced_pipeline \u001b[38;5;241m=\u001b[39m ImbPipeline(steps\u001b[38;5;241m=\u001b[39m[\n\u001b[0;32m     38\u001b[0m (\u001b[38;5;124m'\u001b[39m\u001b[38;5;124mpreprocessor\u001b[39m\u001b[38;5;124m'\u001b[39m,preprocessor),\n\u001b[0;32m     39\u001b[0m (\u001b[38;5;124m'\u001b[39m\u001b[38;5;124msmote-sampler\u001b[39m\u001b[38;5;124m'\u001b[39m,SMOTE(random_state\u001b[38;5;241m=\u001b[39m\u001b[38;5;241m42\u001b[39m)),\n\u001b[0;32m     40\u001b[0m (\u001b[38;5;124m'\u001b[39m\u001b[38;5;124mmodel\u001b[39m\u001b[38;5;124m'\u001b[39m, model )\n\u001b[0;32m     41\u001b[0m ])   \n\u001b[0;32m     42\u001b[0m grid_cv \u001b[38;5;241m=\u001b[39m GridSearchCV(estimator\u001b[38;5;241m=\u001b[39mbalanced_pipeline,param_grid\u001b[38;5;241m=\u001b[39mparams, scoring\u001b[38;5;241m=\u001b[39m\u001b[38;5;124m'\u001b[39m\u001b[38;5;124mf1\u001b[39m\u001b[38;5;124m'\u001b[39m, n_jobs\u001b[38;5;241m=\u001b[39m\u001b[38;5;241m-\u001b[39m\u001b[38;5;241m1\u001b[39m, verbose\u001b[38;5;241m=\u001b[39m\u001b[38;5;241m2\u001b[39m)\n\u001b[1;32m---> 44\u001b[0m \u001b[43mgrid_cv\u001b[49m\u001b[38;5;241;43m.\u001b[39;49m\u001b[43mfit\u001b[49m\u001b[43m(\u001b[49m\u001b[43mX_train\u001b[49m\u001b[43m,\u001b[49m\u001b[43m \u001b[49m\u001b[43my_train\u001b[49m\u001b[43m)\u001b[49m\n\u001b[0;32m     46\u001b[0m \u001b[38;5;66;03m# Get best params and best model\u001b[39;00m\n\u001b[0;32m     47\u001b[0m best_params[model_name] \u001b[38;5;241m=\u001b[39m grid_cv\u001b[38;5;241m.\u001b[39mbest_params_\n",
      "File \u001b[1;32m~\\AppData\\Local\\Packages\\PythonSoftwareFoundation.Python.3.10_qbz5n2kfra8p0\\LocalCache\\local-packages\\Python310\\site-packages\\sklearn\\base.py:1474\u001b[0m, in \u001b[0;36m_fit_context.<locals>.decorator.<locals>.wrapper\u001b[1;34m(estimator, *args, **kwargs)\u001b[0m\n\u001b[0;32m   1467\u001b[0m     estimator\u001b[38;5;241m.\u001b[39m_validate_params()\n\u001b[0;32m   1469\u001b[0m \u001b[38;5;28;01mwith\u001b[39;00m config_context(\n\u001b[0;32m   1470\u001b[0m     skip_parameter_validation\u001b[38;5;241m=\u001b[39m(\n\u001b[0;32m   1471\u001b[0m         prefer_skip_nested_validation \u001b[38;5;129;01mor\u001b[39;00m global_skip_validation\n\u001b[0;32m   1472\u001b[0m     )\n\u001b[0;32m   1473\u001b[0m ):\n\u001b[1;32m-> 1474\u001b[0m     \u001b[38;5;28;01mreturn\u001b[39;00m fit_method(estimator, \u001b[38;5;241m*\u001b[39margs, \u001b[38;5;241m*\u001b[39m\u001b[38;5;241m*\u001b[39mkwargs)\n",
      "File \u001b[1;32m~\\AppData\\Local\\Packages\\PythonSoftwareFoundation.Python.3.10_qbz5n2kfra8p0\\LocalCache\\local-packages\\Python310\\site-packages\\sklearn\\model_selection\\_search.py:1008\u001b[0m, in \u001b[0;36mBaseSearchCV.fit\u001b[1;34m(self, X, y, **params)\u001b[0m\n\u001b[0;32m   1006\u001b[0m refit_start_time \u001b[38;5;241m=\u001b[39m time\u001b[38;5;241m.\u001b[39mtime()\n\u001b[0;32m   1007\u001b[0m \u001b[38;5;28;01mif\u001b[39;00m y \u001b[38;5;129;01mis\u001b[39;00m \u001b[38;5;129;01mnot\u001b[39;00m \u001b[38;5;28;01mNone\u001b[39;00m:\n\u001b[1;32m-> 1008\u001b[0m     \u001b[38;5;28mself\u001b[39m\u001b[38;5;241m.\u001b[39mbest_estimator_\u001b[38;5;241m.\u001b[39mfit(X, y, \u001b[38;5;241m*\u001b[39m\u001b[38;5;241m*\u001b[39mrouted_params\u001b[38;5;241m.\u001b[39mestimator\u001b[38;5;241m.\u001b[39mfit)\n\u001b[0;32m   1009\u001b[0m \u001b[38;5;28;01melse\u001b[39;00m:\n\u001b[0;32m   1010\u001b[0m     \u001b[38;5;28mself\u001b[39m\u001b[38;5;241m.\u001b[39mbest_estimator_\u001b[38;5;241m.\u001b[39mfit(X, \u001b[38;5;241m*\u001b[39m\u001b[38;5;241m*\u001b[39mrouted_params\u001b[38;5;241m.\u001b[39mestimator\u001b[38;5;241m.\u001b[39mfit)\n",
      "File \u001b[1;32m~\\AppData\\Local\\Packages\\PythonSoftwareFoundation.Python.3.10_qbz5n2kfra8p0\\LocalCache\\local-packages\\Python310\\site-packages\\sklearn\\base.py:1474\u001b[0m, in \u001b[0;36m_fit_context.<locals>.decorator.<locals>.wrapper\u001b[1;34m(estimator, *args, **kwargs)\u001b[0m\n\u001b[0;32m   1467\u001b[0m     estimator\u001b[38;5;241m.\u001b[39m_validate_params()\n\u001b[0;32m   1469\u001b[0m \u001b[38;5;28;01mwith\u001b[39;00m config_context(\n\u001b[0;32m   1470\u001b[0m     skip_parameter_validation\u001b[38;5;241m=\u001b[39m(\n\u001b[0;32m   1471\u001b[0m         prefer_skip_nested_validation \u001b[38;5;129;01mor\u001b[39;00m global_skip_validation\n\u001b[0;32m   1472\u001b[0m     )\n\u001b[0;32m   1473\u001b[0m ):\n\u001b[1;32m-> 1474\u001b[0m     \u001b[38;5;28;01mreturn\u001b[39;00m fit_method(estimator, \u001b[38;5;241m*\u001b[39margs, \u001b[38;5;241m*\u001b[39m\u001b[38;5;241m*\u001b[39mkwargs)\n",
      "File \u001b[1;32m~\\AppData\\Local\\Packages\\PythonSoftwareFoundation.Python.3.10_qbz5n2kfra8p0\\LocalCache\\local-packages\\Python310\\site-packages\\imblearn\\pipeline.py:326\u001b[0m, in \u001b[0;36mPipeline.fit\u001b[1;34m(self, X, y, **params)\u001b[0m\n\u001b[0;32m    324\u001b[0m     \u001b[38;5;28;01mif\u001b[39;00m \u001b[38;5;28mself\u001b[39m\u001b[38;5;241m.\u001b[39m_final_estimator \u001b[38;5;241m!=\u001b[39m \u001b[38;5;124m\"\u001b[39m\u001b[38;5;124mpassthrough\u001b[39m\u001b[38;5;124m\"\u001b[39m:\n\u001b[0;32m    325\u001b[0m         last_step_params \u001b[38;5;241m=\u001b[39m routed_params[\u001b[38;5;28mself\u001b[39m\u001b[38;5;241m.\u001b[39msteps[\u001b[38;5;241m-\u001b[39m\u001b[38;5;241m1\u001b[39m][\u001b[38;5;241m0\u001b[39m]]\n\u001b[1;32m--> 326\u001b[0m         \u001b[38;5;28mself\u001b[39m\u001b[38;5;241m.\u001b[39m_final_estimator\u001b[38;5;241m.\u001b[39mfit(Xt, yt, \u001b[38;5;241m*\u001b[39m\u001b[38;5;241m*\u001b[39mlast_step_params[\u001b[38;5;124m\"\u001b[39m\u001b[38;5;124mfit\u001b[39m\u001b[38;5;124m\"\u001b[39m])\n\u001b[0;32m    327\u001b[0m \u001b[38;5;28;01mreturn\u001b[39;00m \u001b[38;5;28mself\u001b[39m\n",
      "File \u001b[1;32m~\\AppData\\Local\\Packages\\PythonSoftwareFoundation.Python.3.10_qbz5n2kfra8p0\\LocalCache\\local-packages\\Python310\\site-packages\\sklearn\\base.py:1467\u001b[0m, in \u001b[0;36m_fit_context.<locals>.decorator.<locals>.wrapper\u001b[1;34m(estimator, *args, **kwargs)\u001b[0m\n\u001b[0;32m   1462\u001b[0m partial_fit_and_fitted \u001b[38;5;241m=\u001b[39m (\n\u001b[0;32m   1463\u001b[0m     fit_method\u001b[38;5;241m.\u001b[39m\u001b[38;5;18m__name__\u001b[39m \u001b[38;5;241m==\u001b[39m \u001b[38;5;124m\"\u001b[39m\u001b[38;5;124mpartial_fit\u001b[39m\u001b[38;5;124m\"\u001b[39m \u001b[38;5;129;01mand\u001b[39;00m _is_fitted(estimator)\n\u001b[0;32m   1464\u001b[0m )\n\u001b[0;32m   1466\u001b[0m \u001b[38;5;28;01mif\u001b[39;00m \u001b[38;5;129;01mnot\u001b[39;00m global_skip_validation \u001b[38;5;129;01mand\u001b[39;00m \u001b[38;5;129;01mnot\u001b[39;00m partial_fit_and_fitted:\n\u001b[1;32m-> 1467\u001b[0m     \u001b[43mestimator\u001b[49m\u001b[38;5;241;43m.\u001b[39;49m\u001b[43m_validate_params\u001b[49m\u001b[43m(\u001b[49m\u001b[43m)\u001b[49m\n\u001b[0;32m   1469\u001b[0m \u001b[38;5;28;01mwith\u001b[39;00m config_context(\n\u001b[0;32m   1470\u001b[0m     skip_parameter_validation\u001b[38;5;241m=\u001b[39m(\n\u001b[0;32m   1471\u001b[0m         prefer_skip_nested_validation \u001b[38;5;129;01mor\u001b[39;00m global_skip_validation\n\u001b[0;32m   1472\u001b[0m     )\n\u001b[0;32m   1473\u001b[0m ):\n\u001b[0;32m   1474\u001b[0m     \u001b[38;5;28;01mreturn\u001b[39;00m fit_method(estimator, \u001b[38;5;241m*\u001b[39margs, \u001b[38;5;241m*\u001b[39m\u001b[38;5;241m*\u001b[39mkwargs)\n",
      "File \u001b[1;32m~\\AppData\\Local\\Packages\\PythonSoftwareFoundation.Python.3.10_qbz5n2kfra8p0\\LocalCache\\local-packages\\Python310\\site-packages\\sklearn\\base.py:666\u001b[0m, in \u001b[0;36mBaseEstimator._validate_params\u001b[1;34m(self)\u001b[0m\n\u001b[0;32m    658\u001b[0m \u001b[38;5;28;01mdef\u001b[39;00m \u001b[38;5;21m_validate_params\u001b[39m(\u001b[38;5;28mself\u001b[39m):\n\u001b[0;32m    659\u001b[0m \u001b[38;5;250m    \u001b[39m\u001b[38;5;124;03m\"\"\"Validate types and values of constructor parameters\u001b[39;00m\n\u001b[0;32m    660\u001b[0m \n\u001b[0;32m    661\u001b[0m \u001b[38;5;124;03m    The expected type and values must be defined in the `_parameter_constraints`\u001b[39;00m\n\u001b[1;32m   (...)\u001b[0m\n\u001b[0;32m    664\u001b[0m \u001b[38;5;124;03m    accepted constraints.\u001b[39;00m\n\u001b[0;32m    665\u001b[0m \u001b[38;5;124;03m    \"\"\"\u001b[39;00m\n\u001b[1;32m--> 666\u001b[0m     \u001b[43mvalidate_parameter_constraints\u001b[49m\u001b[43m(\u001b[49m\n\u001b[0;32m    667\u001b[0m \u001b[43m        \u001b[49m\u001b[38;5;28;43mself\u001b[39;49m\u001b[38;5;241;43m.\u001b[39;49m\u001b[43m_parameter_constraints\u001b[49m\u001b[43m,\u001b[49m\n\u001b[0;32m    668\u001b[0m \u001b[43m        \u001b[49m\u001b[38;5;28;43mself\u001b[39;49m\u001b[38;5;241;43m.\u001b[39;49m\u001b[43mget_params\u001b[49m\u001b[43m(\u001b[49m\u001b[43mdeep\u001b[49m\u001b[38;5;241;43m=\u001b[39;49m\u001b[38;5;28;43;01mFalse\u001b[39;49;00m\u001b[43m)\u001b[49m\u001b[43m,\u001b[49m\n\u001b[0;32m    669\u001b[0m \u001b[43m        \u001b[49m\u001b[43mcaller_name\u001b[49m\u001b[38;5;241;43m=\u001b[39;49m\u001b[38;5;28;43mself\u001b[39;49m\u001b[38;5;241;43m.\u001b[39;49m\u001b[38;5;18;43m__class__\u001b[39;49m\u001b[38;5;241;43m.\u001b[39;49m\u001b[38;5;18;43m__name__\u001b[39;49m\u001b[43m,\u001b[49m\n\u001b[0;32m    670\u001b[0m \u001b[43m    \u001b[49m\u001b[43m)\u001b[49m\n",
      "File \u001b[1;32m~\\AppData\\Local\\Packages\\PythonSoftwareFoundation.Python.3.10_qbz5n2kfra8p0\\LocalCache\\local-packages\\Python310\\site-packages\\sklearn\\utils\\_param_validation.py:95\u001b[0m, in \u001b[0;36mvalidate_parameter_constraints\u001b[1;34m(parameter_constraints, params, caller_name)\u001b[0m\n\u001b[0;32m     89\u001b[0m \u001b[38;5;28;01melse\u001b[39;00m:\n\u001b[0;32m     90\u001b[0m     constraints_str \u001b[38;5;241m=\u001b[39m (\n\u001b[0;32m     91\u001b[0m         \u001b[38;5;124mf\u001b[39m\u001b[38;5;124m\"\u001b[39m\u001b[38;5;132;01m{\u001b[39;00m\u001b[38;5;124m'\u001b[39m\u001b[38;5;124m, \u001b[39m\u001b[38;5;124m'\u001b[39m\u001b[38;5;241m.\u001b[39mjoin([\u001b[38;5;28mstr\u001b[39m(c)\u001b[38;5;250m \u001b[39m\u001b[38;5;28;01mfor\u001b[39;00m\u001b[38;5;250m \u001b[39mc\u001b[38;5;250m \u001b[39m\u001b[38;5;129;01min\u001b[39;00m\u001b[38;5;250m \u001b[39mconstraints[:\u001b[38;5;241m-\u001b[39m\u001b[38;5;241m1\u001b[39m]])\u001b[38;5;132;01m}\u001b[39;00m\u001b[38;5;124m or\u001b[39m\u001b[38;5;124m\"\u001b[39m\n\u001b[0;32m     92\u001b[0m         \u001b[38;5;124mf\u001b[39m\u001b[38;5;124m\"\u001b[39m\u001b[38;5;124m \u001b[39m\u001b[38;5;132;01m{\u001b[39;00mconstraints[\u001b[38;5;241m-\u001b[39m\u001b[38;5;241m1\u001b[39m]\u001b[38;5;132;01m}\u001b[39;00m\u001b[38;5;124m\"\u001b[39m\n\u001b[0;32m     93\u001b[0m     )\n\u001b[1;32m---> 95\u001b[0m \u001b[38;5;28;01mraise\u001b[39;00m InvalidParameterError(\n\u001b[0;32m     96\u001b[0m     \u001b[38;5;124mf\u001b[39m\u001b[38;5;124m\"\u001b[39m\u001b[38;5;124mThe \u001b[39m\u001b[38;5;132;01m{\u001b[39;00mparam_name\u001b[38;5;132;01m!r}\u001b[39;00m\u001b[38;5;124m parameter of \u001b[39m\u001b[38;5;132;01m{\u001b[39;00mcaller_name\u001b[38;5;132;01m}\u001b[39;00m\u001b[38;5;124m must be\u001b[39m\u001b[38;5;124m\"\u001b[39m\n\u001b[0;32m     97\u001b[0m     \u001b[38;5;124mf\u001b[39m\u001b[38;5;124m\"\u001b[39m\u001b[38;5;124m \u001b[39m\u001b[38;5;132;01m{\u001b[39;00mconstraints_str\u001b[38;5;132;01m}\u001b[39;00m\u001b[38;5;124m. Got \u001b[39m\u001b[38;5;132;01m{\u001b[39;00mparam_val\u001b[38;5;132;01m!r}\u001b[39;00m\u001b[38;5;124m instead.\u001b[39m\u001b[38;5;124m\"\u001b[39m\n\u001b[0;32m     98\u001b[0m )\n",
      "\u001b[1;31mInvalidParameterError\u001b[0m: The 'max_features' parameter of RandomForestClassifier must be an int in the range [1, inf), a float in the range (0.0, 1.0], a str among {'log2', 'sqrt'} or None. Got 'auto' instead."
     ]
    }
   ],
   "source": [
    "# Define the models\n",
    "rfc = RandomForestClassifier(random_state=42, n_jobs=-1)\n",
    "knc = KNeighborsClassifier(n_neighbors=5, n_jobs=-1)\n",
    "\n",
    "\n",
    "# Define parameter grid for the three models\n",
    "params_grid = {\n",
    "    'rfc': {\n",
    "    'model__n_estimators': [100, 200, 300],\n",
    "    'model__max_depth': [None, 10, 20],\n",
    "    'model__min_samples_split': [2, 5, 10],\n",
    "    'model__min_samples_leaf': [1, 2, 4],\n",
    "    'model__max_features': ['auto', 'sqrt', 'log2'],\n",
    "    'model__bootstrap': [True, False]\n",
    "    },\n",
    "    'knc': {\n",
    "    'model__n_neighbors': [3, 5, 7],\n",
    "    'model__weights': ['uniform', 'distance'],\n",
    "    'model__algorithm': ['auto', 'ball_tree', 'kd_tree', 'brute']\n",
    "        }\n",
    "}\n",
    "\n",
    "\n",
    "# Initialize dictionary to store best params and best model\n",
    "best_models = {}\n",
    "best_params = {}\n",
    "\n",
    "\n",
    "\n",
    "# Perform grid search for each model\n",
    "for model_name, params in params_grid.items():\n",
    "    if model_name == \"rfc\":\n",
    "        model = rfc\n",
    "    else:\n",
    "        model = knc\n",
    "        \n",
    "    balanced_pipeline = ImbPipeline(steps=[\n",
    "    ('preprocessor',preprocessor),\n",
    "    ('smote-sampler',SMOTE(random_state=42)),\n",
    "    ('model', model )\n",
    "    ])   \n",
    "    grid_cv = GridSearchCV(estimator=balanced_pipeline,param_grid=params, scoring='f1', n_jobs=-1, verbose=2)\n",
    "\n",
    "    grid_cv.fit(X_train, y_train)\n",
    "\n",
    "    # Get best params and best model\n",
    "    best_params[model_name] = grid_cv.best_params_\n",
    "    best_models[model_name] = grid_cv.best_estimator_\n",
    "\n",
    "# Print best parameters for each model\n",
    "for model_name, params in best_params.items():\n",
    "    print(f\"The best parameters for {model_name}: {params}\")"
   ]
  }
 ],
 "metadata": {
  "kernelspec": {
   "display_name": "api_venv",
   "language": "python",
   "name": "python3"
  },
  "language_info": {
   "codemirror_mode": {
    "name": "ipython",
    "version": 3
   },
   "file_extension": ".py",
   "mimetype": "text/x-python",
   "name": "python",
   "nbconvert_exporter": "python",
   "pygments_lexer": "ipython3",
   "version": "3.10.11"
  }
 },
 "nbformat": 4,
 "nbformat_minor": 2
}
